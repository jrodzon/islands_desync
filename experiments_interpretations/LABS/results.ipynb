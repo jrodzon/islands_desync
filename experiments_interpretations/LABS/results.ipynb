{
 "cells": [
  {
   "cell_type": "markdown",
   "metadata": {},
   "source": [
    "To test labs we can start with some infrastructure method to run it with different sequence lenght:"
   ]
  },
  {
   "cell_type": "code",
   "execution_count": 1,
   "metadata": {},
   "outputs": [
    {
     "name": "stdout",
     "output_type": "stream",
     "text": [
      "/home/agent/Studies/Pracownia_projektowa/islands_desync/experiments_interpretations/LABS\n",
      "/home/agent/Studies/Pracownia_projektowa/islands_desync/experiments_interpretations/LABS/../..\n"
     ]
    }
   ],
   "source": [
    "import os\n",
    "from pathlib import Path\n",
    "import subprocess\n",
    "CURRENT_DIR = Path(os.getcwd())\n",
    "print(CURRENT_DIR)\n",
    "SCRIPT_DIR = CURRENT_DIR.joinpath('../..')\n",
    "print(SCRIPT_DIR)\n",
    "NUMBER_OF_ISLANDS = 4\n",
    "\n",
    "def execute_labs(sequence_lenght: int):\n",
    "    os.chdir(SCRIPT_DIR)\n",
    "    cmd = ['./local_run.sh {}'.format(sequence_lenght)]\n",
    "    process = subprocess.Popen(cmd, shell=True, stdout=subprocess.DEVNULL, stderr=subprocess.DEVNULL)\n",
    "    process.wait()\n",
    "    os.chdir(CURRENT_DIR)"
   ]
  },
  {
   "cell_type": "markdown",
   "metadata": {},
   "source": [
    "We also need a method to extract the results from each island:"
   ]
  },
  {
   "cell_type": "code",
   "execution_count": 2,
   "metadata": {},
   "outputs": [],
   "source": [
    "LOGS_PATH = SCRIPT_DIR.joinpath('logs')\n",
    "\n",
    "def get_latest_dir(current_path: Path) -> Path:\n",
    "    dir_list = next(os.walk(current_path))[1]\n",
    "    dir_list.sort()\n",
    "    latest_dir = dir_list[-1]\n",
    "    return current_path.joinpath(latest_dir)\n",
    "\n",
    "def read_end_value_for_island(island: int) -> int:\n",
    "    filename = 'kontrolW{}End.ctrl.txt'.format(island)\n",
    "    with open(filename) as f:\n",
    "        result = int(next(f))\n",
    "    return result\n",
    "\n",
    "def gather_latest_results(number_of_islands: int = NUMBER_OF_ISLANDS) -> list:\n",
    "    day_dir = get_latest_dir(LOGS_PATH)\n",
    "    labs1_dir = get_latest_dir(LOGS_PATH.joinpath(day_dir))\n",
    "    hour_dir = get_latest_dir(labs1_dir)\n",
    "    os.chdir(hour_dir)\n",
    "    result = []\n",
    "    for i in range(number_of_islands):\n",
    "        result.append(read_end_value_for_island(i))\n",
    "    os.chdir(CURRENT_DIR)\n",
    "    return result\n"
   ]
  },
  {
   "cell_type": "markdown",
   "metadata": {},
   "source": [
    "Then we can check if the algorithm is able to find optimal values for different lenghts.\n",
    "We can compare the values with the optimal ones from the following publication:\n",
    "[Low autocorrelation binary sequences](https://www-e.ovgu.de/mertens/pubs/labs-16.pdf)"
   ]
  },
  {
   "cell_type": "code",
   "execution_count": 3,
   "metadata": {},
   "outputs": [
    {
     "name": "stdout",
     "output_type": "stream",
     "text": [
      "Results for 7 bits: [3, 3, 3, 3]\n",
      "Results for 10 bits: [13, 13, 21, 13]\n",
      "Results for 13 bits: [34, 22, 42, 22]\n",
      "Results for 16 bits: [56, 40, 64, 40]\n",
      "Results for 20 bits: [58, 58, 58, 58]\n",
      "Results for 25 bits: [168, 132, 168, 132]\n",
      "Results for 30 bits: [235, 235, 235, 235]\n",
      "Results for 35 bits: [325, 317, 325, 317]\n",
      "Results for 40 bits: [432, 380, 456, 380]\n"
     ]
    }
   ],
   "source": [
    "optimal_values = [(7, 3), (10, 13), (13, 6), (16, 24), (20, 26), (25,36), (30, 59), (35, 73), (40, 108)]\n",
    "results = []\n",
    "for sequence_length, _ in optimal_values:\n",
    "    execute_labs(sequence_length)\n",
    "    execution_result = gather_latest_results()\n",
    "    print('Results for {} bits: {}'.format(sequence_length, str(execution_result)))\n",
    "    results.append(execution_result)"
   ]
  },
  {
   "cell_type": "code",
   "execution_count": 4,
   "metadata": {},
   "outputs": [
    {
     "data": {
      "image/png": "[encoded data removed]",
      "text/plain": [
       "<Figure size 640x480 with 1 Axes>"
      ]
     },
     "metadata": {},
     "output_type": "display_data"
    }
   ],
   "source": [
    "import matplotlib.pyplot as plt\n",
    "\n",
    "x = [l for l, r in optimal_values]\n",
    "y = [r for l, r in optimal_values]\n",
    "\n",
    "fig, ax = plt.subplots()\n",
    "ax.scatter(x, y, s=75, c='red')\n",
    "for i in range(NUMBER_OF_ISLANDS):\n",
    "    y_i = [r[i] for r in results]\n",
    "    ax.scatter(x, y_i, c='blue')\n",
    "ax.legend(['optimal', 'calculated'], loc='upper left')\n",
    "ax.set_xlabel('Sequence length')\n",
    "ax.set_ylabel('E')\n",
    "plt.show()"
   ]
  },
  {
   "cell_type": "markdown",
   "metadata": {},
   "source": [
    "It can be seen on the visualization that the algorithm is working and is able to find the optimal solution for the short sequences. For the longer ones it probably gets stuck in some local minimum and is quite far from optimal solution.\n",
    "It is possible that having more resources and tweaking some parameters (like selecting migration candidates or mutations) the island genetic algorithm may be able to achieve respectable results event for long sequences."
   ]
  }
 ],
 "metadata": {
  "kernelspec": {
   "display_name": "Python 3.10.14 ('island_desync')",
   "language": "python",
   "name": "python3"
  },
  "language_info": {
   "codemirror_mode": {
    "name": "ipython",
    "version": 3
   },
   "file_extension": ".py",
   "mimetype": "text/x-python",
   "name": "python",
   "nbconvert_exporter": "python",
   "pygments_lexer": "ipython3",
   "version": "3.10.14"
  },
  "orig_nbformat": 4,
  "vscode": {
   "interpreter": {
    "hash": "84d668abc8aa8382596883475e36f0288340276121dc8fddbb84b217de9dc479"
   }
  }
 },
 "nbformat": 4,
 "nbformat_minor": 2
}
